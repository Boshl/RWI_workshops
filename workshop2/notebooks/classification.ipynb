{
 "cells": [
  {
   "cell_type": "markdown",
   "metadata": {},
   "source": [
    "## Einlesen des IMDB Datensatzes"
   ]
  },
  {
   "cell_type": "code",
   "execution_count": 127,
   "metadata": {},
   "outputs": [
    {
     "data": {
      "text/html": [
       "<div>\n",
       "<style scoped>\n",
       "    .dataframe tbody tr th:only-of-type {\n",
       "        vertical-align: middle;\n",
       "    }\n",
       "\n",
       "    .dataframe tbody tr th {\n",
       "        vertical-align: top;\n",
       "    }\n",
       "\n",
       "    .dataframe thead th {\n",
       "        text-align: right;\n",
       "    }\n",
       "</style>\n",
       "<table border=\"1\" class=\"dataframe\">\n",
       "  <thead>\n",
       "    <tr style=\"text-align: right;\">\n",
       "      <th></th>\n",
       "      <th>review</th>\n",
       "      <th>sentiment</th>\n",
       "    </tr>\n",
       "  </thead>\n",
       "  <tbody>\n",
       "    <tr>\n",
       "      <th>0</th>\n",
       "      <td>One of the other reviewers has mentioned that ...</td>\n",
       "      <td>positive</td>\n",
       "    </tr>\n",
       "    <tr>\n",
       "      <th>1</th>\n",
       "      <td>A wonderful little production. &lt;br /&gt;&lt;br /&gt;The...</td>\n",
       "      <td>positive</td>\n",
       "    </tr>\n",
       "    <tr>\n",
       "      <th>2</th>\n",
       "      <td>I thought this was a wonderful way to spend ti...</td>\n",
       "      <td>positive</td>\n",
       "    </tr>\n",
       "    <tr>\n",
       "      <th>3</th>\n",
       "      <td>Basically there's a family where a little boy ...</td>\n",
       "      <td>negative</td>\n",
       "    </tr>\n",
       "    <tr>\n",
       "      <th>4</th>\n",
       "      <td>Petter Mattei's \"Love in the Time of Money\" is...</td>\n",
       "      <td>positive</td>\n",
       "    </tr>\n",
       "  </tbody>\n",
       "</table>\n",
       "</div>"
      ],
      "text/plain": [
       "                                              review sentiment\n",
       "0  One of the other reviewers has mentioned that ...  positive\n",
       "1  A wonderful little production. <br /><br />The...  positive\n",
       "2  I thought this was a wonderful way to spend ti...  positive\n",
       "3  Basically there's a family where a little boy ...  negative\n",
       "4  Petter Mattei's \"Love in the Time of Money\" is...  positive"
      ]
     },
     "execution_count": 127,
     "metadata": {},
     "output_type": "execute_result"
    }
   ],
   "source": [
    "import pandas as pd\n",
    "import warnings\n",
    "\n",
    "warnings.filterwarnings('ignore') # Blendet zur Übersicht Warnungen aus\n",
    "\n",
    "# Quelle: https://www.kaggle.com/datasets/lakshmi25npathi/imdb-dataset-of-50k-movie-reviews\n",
    "imdb_data = pd.read_csv('../misc/IMDB Dataset.csv')\n",
    "n = 2000\n",
    "imdb_data = imdb_data.head(n)\n",
    "\n",
    "imdb_data.head(5)"
   ]
  },
  {
   "cell_type": "markdown",
   "metadata": {},
   "source": [
    "## Eckdaten des IMDB Datensatzes"
   ]
  },
  {
   "cell_type": "code",
   "execution_count": 128,
   "metadata": {},
   "outputs": [
    {
     "name": "stdout",
     "output_type": "stream",
     "text": [
      "Aufteilung der Daten:\n",
      "positive    1005\n",
      "negative     995\n",
      "Name: sentiment, dtype: int64\n",
      "\n",
      "Durchschnittliche Anzahl von Wörtern pro Beitrag:\n",
      "234\n"
     ]
    }
   ],
   "source": [
    "import re\n",
    "\n",
    "def count_words(string):\n",
    "    words = re.findall(r'\\w+', string)\n",
    "    return len(words)\n",
    "\n",
    "imdb_data['num_words'] = imdb_data['review'].apply(count_words)\n",
    "avg_words = imdb_data['num_words'].mean()\n",
    "\n",
    "\n",
    "\n",
    "print(\"Aufteilung der Daten:\")\n",
    "print(imdb_data['sentiment'].value_counts())\n",
    "print(\"\")\n",
    "print(f\"Durchschnittliche Anzahl von Wörtern pro Beitrag:\\n{int(avg_words)}\")"
   ]
  },
  {
   "cell_type": "markdown",
   "metadata": {},
   "source": [
    "## Beispiel eines IMDB Reviews"
   ]
  },
  {
   "cell_type": "code",
   "execution_count": 129,
   "metadata": {},
   "outputs": [
    {
     "name": "stdout",
     "output_type": "stream",
     "text": [
      "Sentiment: positive\n",
      "\n",
      "A wonderful little production. <br /><br />The filming technique is very unassuming- very old-time-BBC fashion and gives a comforting, and sometimes discomforting, sense of realism to the entire piece. <br /><br />The actors are extremely well chosen- Michael Sheen not only \"has got all the polari\" but he has all the voices down pat too! You can truly see the seamless editing guided by the references to Williams' diary entries, not only is it well worth the watching but it is a terrificly written and performed piece. A masterful production about one of the great master's of comedy and his life. <br /><br />The realism really comes home with the little things: the fantasy of the guard which, rather than use the traditional 'dream' techniques remains solid then disappears. It plays on our knowledge and our senses, particularly with the scenes concerning Orton and Halliwell and the sets (particularly of their flat with Halliwell's murals decorating every surface) are terribly well done.\n"
     ]
    }
   ],
   "source": [
    "print(f\"Sentiment: {imdb_data['sentiment'][1]}\\n\")\n",
    "print(imdb_data['review'][1])"
   ]
  },
  {
   "cell_type": "markdown",
   "metadata": {},
   "source": [
    "## Entfernen von überflüssigen HTML tags"
   ]
  },
  {
   "cell_type": "code",
   "execution_count": 130,
   "metadata": {},
   "outputs": [
    {
     "name": "stdout",
     "output_type": "stream",
     "text": [
      "A wonderful little production. The filming technique is very unassuming- very old-time-BBC fashion and gives a comforting, and sometimes discomforting, sense of realism to the entire piece. The actors are extremely well chosen- Michael Sheen not only \"has got all the polari\" but he has all the voices down pat too! You can truly see the seamless editing guided by the references to Williams' diary entries, not only is it well worth the watching but it is a terrificly written and performed piece. A masterful production about one of the great master's of comedy and his life. The realism really comes home with the little things: the fantasy of the guard which, rather than use the traditional 'dream' techniques remains solid then disappears. It plays on our knowledge and our senses, particularly with the scenes concerning Orton and Halliwell and the sets (particularly of their flat with Halliwell's murals decorating every surface) are terribly well done.\n"
     ]
    }
   ],
   "source": [
    "import re\n",
    "from sklearn.feature_extraction.text import TfidfVectorizer\n",
    "\n",
    "\n",
    "# Quelle: https://www.kaggle.com/code/lakshmi25npathi/sentiment-analysis-of-imdb-movie-reviews\n",
    "def cleanhtml(raw_html):\n",
    "   CLEANR = re.compile('<.*?>') \n",
    "   cleantext = re.sub(CLEANR, '', raw_html)\n",
    "   return cleantext\n",
    "\n",
    "imdb_data['review'] = imdb_data['review'].apply(cleanhtml)\n",
    "print(imdb_data.review[1])\n"
   ]
  },
  {
   "cell_type": "markdown",
   "metadata": {},
   "source": [
    "## Entfernen von Stoppwörtern"
   ]
  },
  {
   "cell_type": "code",
   "execution_count": 131,
   "metadata": {},
   "outputs": [
    {
     "name": "stdout",
     "output_type": "stream",
     "text": [
      "wonderful little production. filming technique unassuming- old-time-BBC fashion gives comforting , sometimes discomforting , sense realism entire piece. actors extremely well chosen- Michael Sheen \" got polari \" voices pat ! truly see seamless editing guided references Williams ' diary entries , well worth watching terrificly written performed piece. masterful production one great master ' comedy life. realism really comes home little things : fantasy guard , rather use traditional ' dream ' techniques remains solid disappears. plays knowledge senses , particularly scenes concerning Orton Halliwell sets ( particularly flat Halliwell ' murals decorating every surface ) terribly well done .\n"
     ]
    }
   ],
   "source": [
    "import nltk\n",
    "from nltk.corpus import stopwords\n",
    "from nltk.tokenize.toktok import ToktokTokenizer\n",
    "from sklearn.feature_extraction.text import TfidfVectorizer\n",
    "\n",
    "\n",
    "tokenizer=ToktokTokenizer()\n",
    "stopword_list=nltk.corpus.stopwords.words('english') # setze tokenizer Sprache auf Englisch\n",
    "\n",
    "# Entfernen von Stoppwörtern\n",
    "def remove_stopwords(text, is_lower_case=False):\n",
    "    tokens = tokenizer.tokenize(text)\n",
    "    tokens = [token.strip() for token in tokens]\n",
    "    if is_lower_case:\n",
    "        filtered_tokens = [token for token in tokens if token not in stopword_list]\n",
    "    else:\n",
    "        filtered_tokens = [token for token in tokens if token.lower() not in stopword_list]\n",
    "    filtered_text = ' '.join(filtered_tokens)    \n",
    "    return filtered_text\n",
    "\n",
    "imdb_data['review'] = imdb_data['review'].apply(remove_stopwords)\n",
    "print(imdb_data['review'][1])\n"
   ]
  },
  {
   "cell_type": "markdown",
   "metadata": {},
   "source": [
    "## Durchführen einer Lemmatisierung"
   ]
  },
  {
   "cell_type": "code",
   "execution_count": 132,
   "metadata": {},
   "outputs": [
    {
     "name": "stdout",
     "output_type": "stream",
     "text": [
      "wonderful little production . film technique unassuming- old - time - BBC fashion give comforting , sometimes discomforting , sense realism entire piece . actor extremely well chosen- Michael Sheen \" get polari \" voice pat ! truly see seamless edit guide reference Williams ' diary entry , well worth watch terrificly write perform piece . masterful production one great master ' comedy life . realism really come home little thing : fantasy guard , rather use traditional ' dream ' technique remain solid disappear . play knowledge sense , particularly scene concern Orton Halliwell set ( particularly flat Halliwell ' mural decorate every surface ) terribly well do .\n"
     ]
    }
   ],
   "source": [
    "import spacy\n",
    "\n",
    "nlp = spacy.load('en_core_web_sm')\n",
    "\n",
    "lemma_text_list = []\n",
    "for doc in nlp.pipe(imdb_data['review']):\n",
    "    lemma_text_list.append(\" \".join(token.lemma_ for token in doc))\n",
    "\n",
    "imdb_data['review'] = lemma_text_list\n",
    "print(imdb_data['review'][1])\n"
   ]
  },
  {
   "cell_type": "markdown",
   "metadata": {},
   "source": [
    "## Aufteilen in Trainings- und Testdatensätze"
   ]
  },
  {
   "cell_type": "code",
   "execution_count": 133,
   "metadata": {},
   "outputs": [
    {
     "name": "stdout",
     "output_type": "stream",
     "text": [
      "Trainingsdaten:\n",
      "1600\n",
      "----------------\n",
      "Testdaten:\n",
      "400\n"
     ]
    }
   ],
   "source": [
    "from sklearn.model_selection import train_test_split\n",
    "\n",
    "X_train, X_test, y_train, y_test = train_test_split(imdb_data.review, imdb_data.sentiment, test_size=0.2, random_state=42)\n",
    "\n",
    "print(\"Trainingsdaten:\")\n",
    "print(len(X_train))\n",
    "print(\"----------------\")\n",
    "print(\"Testdaten:\")\n",
    "print(len(X_test))"
   ]
  },
  {
   "cell_type": "markdown",
   "metadata": {},
   "source": [
    "## Übertragen in einen TFIDF Vektor"
   ]
  },
  {
   "cell_type": "code",
   "execution_count": 134,
   "metadata": {},
   "outputs": [
    {
     "name": "stdout",
     "output_type": "stream",
     "text": [
      "(1600, 18894)\n",
      "(400, 18894)\n"
     ]
    }
   ],
   "source": [
    "from sklearn.feature_extraction.text import TfidfVectorizer\n",
    "\n",
    "tfidf = TfidfVectorizer()\n",
    "X_train_tfidf = tfidf.fit_transform(X_train)\n",
    "X_test_tfidf = tfidf.transform(X_test)\n",
    "\n",
    "print(X_train_tfidf.shape)\n",
    "print(X_test_tfidf.shape)"
   ]
  },
  {
   "cell_type": "markdown",
   "metadata": {},
   "source": [
    "## Übertragen der Sentiment-Labels in binäre Darstellung"
   ]
  },
  {
   "cell_type": "code",
   "execution_count": 135,
   "metadata": {},
   "outputs": [
    {
     "name": "stdout",
     "output_type": "stream",
     "text": [
      "968    positive\n",
      "240    negative\n",
      "819    negative\n",
      "692    negative\n",
      "420    negative\n",
      "Name: sentiment, dtype: object\n",
      "\n",
      "Binäre Darstellung:\n",
      "[[1]\n",
      " [0]\n",
      " [0]\n",
      " [0]\n",
      " [0]]\n"
     ]
    }
   ],
   "source": [
    "from sklearn.preprocessing import LabelBinarizer\n",
    "\n",
    "# Sentiment Labels Darstellung\n",
    "print(f\"{y_train[:5]}\")\n",
    "print(\"\")\n",
    "lb = LabelBinarizer()\n",
    "y_train = lb.fit_transform(y_train)\n",
    "y_test = lb.fit_transform(y_test)\n",
    "print(\"Binäre Darstellung:\")\n",
    "print(f\"{y_train[:5]}\")"
   ]
  },
  {
   "cell_type": "markdown",
   "metadata": {},
   "source": [
    "## Training eines Classifiers(Support Vector Machine) auf Grundlage der Trainingsdaten"
   ]
  },
  {
   "cell_type": "code",
   "execution_count": 136,
   "metadata": {},
   "outputs": [
    {
     "name": "stdout",
     "output_type": "stream",
     "text": [
      "              precision    recall  f1-score   support\n",
      "\n",
      "    positive       0.88      0.82      0.85       195\n",
      "    negative       0.84      0.89      0.87       205\n",
      "\n",
      "    accuracy                           0.86       400\n",
      "   macro avg       0.86      0.86      0.86       400\n",
      "weighted avg       0.86      0.86      0.86       400\n",
      "\n"
     ]
    }
   ],
   "source": [
    "from sklearn.metrics import classification_report\n",
    "from sklearn import svm\n",
    "\n",
    "clf = svm.SVC()\n",
    "clf.fit(X_train_tfidf, y_train)\n",
    "sentiments_pred = clf.predict(X_test_tfidf)\n",
    "target_names = ['positive', 'negative']\n",
    "print(classification_report(y_test, sentiments_pred, target_names=target_names))"
   ]
  },
  {
   "cell_type": "markdown",
   "metadata": {},
   "source": [
    "## Austauschen des Classifiers"
   ]
  },
  {
   "cell_type": "code",
   "execution_count": 156,
   "metadata": {},
   "outputs": [
    {
     "name": "stdout",
     "output_type": "stream",
     "text": [
      "              precision    recall  f1-score   support\n",
      "\n",
      "    positive       0.66      0.92      0.77       195\n",
      "    negative       0.88      0.55      0.67       205\n",
      "\n",
      "    accuracy                           0.73       400\n",
      "   macro avg       0.77      0.73      0.72       400\n",
      "weighted avg       0.77      0.73      0.72       400\n",
      "\n"
     ]
    }
   ],
   "source": [
    "from sklearn.neighbors import KNeighborsClassifier\n",
    "\n",
    "neigh = KNeighborsClassifier(n_neighbors=20)\n",
    "neigh.fit(X_train_tfidf, y_train)\n",
    "sentiments_pred = neigh.predict(X_test_tfidf)\n",
    "target_names = ['positive', 'negative']\n",
    "print(classification_report(y_test, sentiments_pred, target_names=target_names))\n"
   ]
  },
  {
   "cell_type": "markdown",
   "metadata": {},
   "source": [
    "## Beispielsätze klassifizieren"
   ]
  },
  {
   "cell_type": "code",
   "execution_count": 158,
   "metadata": {},
   "outputs": [
    {
     "name": "stdout",
     "output_type": "stream",
     "text": [
      "The review \n",
      "\"I hated the movie so much. I couldnt stand a second of it and it bored me\"\n",
      "got classified as: Negative\n",
      "\n",
      "The review \n",
      "\"The movie was very boring\"\n",
      "got classified as: Negative\n",
      "\n",
      "The review \n",
      "\"The movie was fun to watch\"\n",
      "got classified as: Positive\n",
      "\n"
     ]
    }
   ],
   "source": [
    "def classify_example(example, clf):\n",
    "    X_example = [f\"{example}\"]\n",
    "    X_example = tfidf.transform(X_example)\n",
    "\n",
    "    result = clf.predict(X_example)\n",
    "    if result[0] == 1:\n",
    "        print(f\"The review \\n\\\"{example}\\\"\\ngot classified as: Positive\")\n",
    "    else:\n",
    "        print(f\"The review \\n\\\"{example}\\\"\\ngot classified as: Negative\")\n",
    "    print(\"\")\n",
    "\n",
    "example1 = \"I hated the movie so much. I couldnt stand a second of it and it bored me\"\n",
    "example2 = \"The movie was very boring\"\n",
    "example3 = \"The movie was fun to watch\"\n",
    "\n",
    "classify_example(example1, clf)\n",
    "classify_example(example2, clf)\n",
    "classify_example(example3, clf)"
   ]
  },
  {
   "cell_type": "markdown",
   "metadata": {},
   "source": []
  }
 ],
 "metadata": {
  "kernelspec": {
   "display_name": "Python 3.10.7 64-bit",
   "language": "python",
   "name": "python3"
  },
  "language_info": {
   "codemirror_mode": {
    "name": "ipython",
    "version": 3
   },
   "file_extension": ".py",
   "mimetype": "text/x-python",
   "name": "python",
   "nbconvert_exporter": "python",
   "pygments_lexer": "ipython3",
   "version": "3.10.7"
  },
  "orig_nbformat": 4,
  "vscode": {
   "interpreter": {
    "hash": "aee8b7b246df8f9039afb4144a1f6fd8d2ca17a180786b69acc140d282b71a49"
   }
  }
 },
 "nbformat": 4,
 "nbformat_minor": 2
}
